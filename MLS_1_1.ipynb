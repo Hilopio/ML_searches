{
  "nbformat": 4,
  "nbformat_minor": 0,
  "metadata": {
    "colab": {
      "provenance": []
    },
    "kernelspec": {
      "name": "python3",
      "display_name": "Python 3"
    },
    "language_info": {
      "name": "python"
    }
  },
  "cells": [
    {
      "cell_type": "code",
      "execution_count": 44,
      "metadata": {
        "id": "6GP8ZlmdPDSK"
      },
      "outputs": [],
      "source": [
        "import numpy as np\n",
        "import matplotlib.pyplot as plt\n",
        "from sklearn import linear_model"
      ]
    },
    {
      "cell_type": "code",
      "source": [
        "np.random.seed(42)\n",
        "\n",
        "# creating synthetic data\n",
        "x = np.random.uniform(low=0, high=100, size=100).reshape(-1, 1)\n",
        "k = np.random.normal(0.3, 3)\n",
        "b = np.random.normal(0, 50)\n",
        "\n",
        "# y = k * x + b + noise\n",
        "y = (x * k + b).squeeze()\n",
        "noise = np.random.normal(loc=0, scale=20, size=y.shape)\n",
        "y += noise"
      ],
      "metadata": {
        "id": "Mldc9j-QYrJB"
      },
      "execution_count": 45,
      "outputs": []
    },
    {
      "cell_type": "code",
      "source": [
        "# fit model\n",
        "reg = linear_model.LinearRegression()\n",
        "reg.fit(x, y);"
      ],
      "metadata": {
        "id": "qq8-9Jd8ZBFW"
      },
      "execution_count": 46,
      "outputs": []
    },
    {
      "cell_type": "code",
      "source": [
        "# draw result\n",
        "result_x = np.arange(101).reshape(-1, 1)\n",
        "result_y = reg.predict(result_x)\n",
        "\n",
        "plt.figure(figsize=(8, 6), dpi=50)\n",
        "plt.scatter(x, y, c='b')\n",
        "plt.plot(result_x, result_y, c='r')\n",
        "plt.show()"
      ],
      "metadata": {
        "colab": {
          "base_uri": "https://localhost:8080/",
          "height": 268
        },
        "id": "7kpn44eXQras",
        "outputId": "4ad0398c-921f-46b3-c76e-dc7e0d8b1973"
      },
      "execution_count": 47,
      "outputs": [
        {
          "output_type": "display_data",
          "data": {
            "text/plain": [
              "<Figure size 400x300 with 1 Axes>"
            ],
            "image/png": "[encoded data removed]"
          },
          "metadata": {}
        }
      ]
    },
    {
      "cell_type": "code",
      "source": [],
      "metadata": {
        "id": "BzQofw51YgUS"
      },
      "execution_count": 47,
      "outputs": []
    }
  ]
}